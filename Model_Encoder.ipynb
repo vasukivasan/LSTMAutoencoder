{
  "cells": [
    {
      "cell_type": "code",
      "execution_count": null,
      "metadata": {
        "id": "EZEbLr6PB2HH",
        "colab": {
          "base_uri": "https://localhost:8080/"
        },
        "outputId": "0aa89424-d99b-4267-df5b-2b082c3d25e3"
      },
      "outputs": [
        {
          "output_type": "stream",
          "name": "stdout",
          "text": [
            "Drive already mounted at /content/drive; to attempt to forcibly remount, call drive.mount(\"/content/drive\", force_remount=True).\n",
            "Mounted at /content/drive\n"
          ]
        }
      ],
      "source": [
        "from google.colab import drive\n",
        "drive.mount('/content/drive')\n",
        "drive.mount(\"/content/drive\", force_remount=True)"
      ]
    },
    {
      "cell_type": "code",
      "execution_count": null,
      "metadata": {
        "colab": {
          "base_uri": "https://localhost:8080/"
        },
        "id": "C_DzGlrjB3ln",
        "outputId": "10e3002c-4afa-4a07-8502-4cd53b02e840"
      },
      "outputs": [
        {
          "output_type": "stream",
          "name": "stdout",
          "text": [
            "Looking in indexes: https://pypi.org/simple, https://us-python.pkg.dev/colab-wheels/public/simple/\n",
            "Requirement already satisfied: keras-layer-normalization in /usr/local/lib/python3.8/dist-packages (0.16.0)\n",
            "Requirement already satisfied: numpy in /usr/local/lib/python3.8/dist-packages (from keras-layer-normalization) (1.21.6)\n"
          ]
        }
      ],
      "source": [
        "!pip install keras-layer-normalization"
      ]
    },
    {
      "cell_type": "code",
      "execution_count": null,
      "metadata": {
        "id": "gAdVgEmDB5Pl"
      },
      "outputs": [],
      "source": [
        "class Config:\n",
        "  DATASET_PATH =\"/content/drive/My Drive/ColabNotebook2/UCSD_Anomaly_Dataset.v1p2/UCSDped1/Train\"\n",
        "  SINGLE_TEST_PATH = \"/content/drive/My Drive/ColabNotebook2/UCSD_Anomaly_Dataset.v1p2/UCSDped1/Test/Test020\"\n",
        "  BATCH_SIZE = 4\n",
        "  EPOCHS = 3\n",
        "  MODEL_PATH = \"/content/drive/My Drive/ColabNotebook2/callback/model_lstm.hdf5\""
      ]
    },
    {
      "cell_type": "code",
      "execution_count": null,
      "metadata": {
        "id": "P_YwbZqjB67k"
      },
      "outputs": [],
      "source": [
        "from os import listdir\n",
        "from os.path import isfile, join, isdir\n",
        "from PIL import Image\n",
        "import numpy as np\n",
        "import shelve\n",
        "\n",
        "def get_clips_by_stride(stride, frames_list, sequence_size):\n",
        "    \"\"\" For data augmenting purposes.\n",
        "    Parameters\n",
        "    ----------\n",
        "    stride : int\n",
        "        The desired distance between two consecutive frames\n",
        "    frames_list : list\n",
        "        A list of sorted frames of shape 256 X 256\n",
        "    sequence_size: int\n",
        "        The size of the desired LSTM sequence\n",
        "    Returns\n",
        "    -------\n",
        "    list\n",
        "        A list of clips , 10 frames each\n",
        "    \"\"\"\n",
        "    clips = []\n",
        "    sz = len(frames_list)\n",
        "    clip = np.zeros(shape=(sequence_size, 256, 256, 1))\n",
        "    cnt = 0\n",
        "    for start in range(0, stride):\n",
        "        for i in range(start, sz, stride):\n",
        "            clip[cnt, :, :, 0] = frames_list[i]\n",
        "            cnt = cnt + 1\n",
        "            if cnt == sequence_size:\n",
        "                clips.append(np.copy(clip))\n",
        "                cnt = 0\n",
        "   \n",
        "def get_training_set():\n",
        "    \"\"\"\n",
        "    Returns\n",
        "    -------\n",
        "    list\n",
        "        A list of training sequences of shape (NUMBER_OF_SEQUENCES,SINGLE_SEQUENCE_SIZE,FRAME_WIDTH,FRAME_HEIGHT,1)\n",
        "    \"\"\"\n",
        "    #####################################\n",
        "    # cache = shelve.open(Config.CACHE_PATH)\n",
        "    # return cache[\"datasetLSTM\"]\n",
        "    #####################################\n",
        "    clips = []\n",
        "    # loop over the training folders (Train000,Train001,..)\n",
        "    for f in sorted(listdir(Config.DATASET_PATH)):\n",
        "        if isdir(join(Config.DATASET_PATH, f)):\n",
        "            all_frames = []\n",
        "            # loop over all the images in the folder (0.tif,1.tif,..,199.tif)\n",
        "            for c in sorted(listdir(join(Config.DATASET_PATH, f))):\n",
        "                if str(join(join(Config.DATASET_PATH, f), c))[-3:] == \"tif\":\n",
        "                    img = Image.open(join(join(Config.DATASET_PATH, f), c)).resize((256, 256))\n",
        "                    img = np.array(img, dtype=np.float32) / 256.0\n",
        "                    all_frames.append(img)\n",
        "            # get the 10-frames sequences from the list of images after applying data augmentation\n",
        "            for stride in range(1, 3):\n",
        "                clips.extend(get_clips_by_stride(stride=stride, frames_list=all_frames, sequence_size=10))\n",
        "\n",
        "  \n",
        "    return clips\n"
      ]
    },
    {
      "cell_type": "code",
      "execution_count": null,
      "metadata": {
        "id": "KY_bTyykB-ST"
      },
      "outputs": [],
      "source": [
        "import keras\n",
        "from keras.layers import Conv2DTranspose, ConvLSTM2D, BatchNormalization, TimeDistributed, Conv2D, LayerNormalization\n",
        "from keras.models import Sequential, load_model\n",
        "def get_model(reload_model=True):\n",
        "    \"\"\"\n",
        "    Parameters\n",
        "    ----------\n",
        "    reload_model : bool\n",
        "        Load saved model or retrain it\n",
        "    \"\"\"\n",
        "    if not reload_model:\n",
        "        return load_model(Config.MODEL_PATH,custom_objects={'LayerNormalization': LayerNormalization})\n",
        "    training_set = get_training_set()\n",
        "    training_set = np.array(training_set)\n",
        "    training_set = training_set.reshape(-1,10,256,256,1)\n",
        "    seq = Sequential()\n",
        "    seq.add(TimeDistributed(Conv2D(128, (11, 11), strides=4, padding=\"same\"), batch_input_shape=(None, 10, 256, 256, 1)))\n",
        "    seq.add(LayerNormalization())\n",
        "    seq.add(TimeDistributed(Conv2D(64, (5, 5), strides=2, padding=\"same\")))\n",
        "    seq.add(LayerNormalization())\n",
        "    # # # # #\n",
        "    seq.add(ConvLSTM2D(64, (3, 3), padding=\"same\", return_sequences=True))\n",
        "    seq.add(LayerNormalization())\n",
        "    seq.add(ConvLSTM2D(32, (3, 3), padding=\"same\", return_sequences=True))\n",
        "    seq.add(LayerNormalization())\n",
        "    seq.add(ConvLSTM2D(64, (3, 3), padding=\"same\", return_sequences=True))\n",
        "    seq.add(LayerNormalization())\n",
        "    # # # # #\n",
        "    seq.add(TimeDistributed(Conv2DTranspose(64, (5, 5), strides=2, padding=\"same\")))\n",
        "    seq.add(LayerNormalization())\n",
        "    seq.add(TimeDistributed(Conv2DTranspose(128, (11, 11), strides=4, padding=\"same\")))\n",
        "    seq.add(LayerNormalization())\n",
        "    seq.add(TimeDistributed(Conv2D(1, (11, 11), activation=\"sigmoid\", padding=\"same\")))\n",
        "    print(seq.summary())\n",
        "    seq.compile(loss='mse', optimizer=keras.optimizers.Adam(lr=1e-4, decay=1e-5, epsilon=1e-6))\n",
        "    seq.fit(training_set, training_set,batch_size=Config.BATCH_SIZE, epochs=Config.EPOCHS, shuffle=False)\n",
        "    seq.save(Config.MODEL_PATH)\n",
        "    return seq"
      ]
    },
    {
      "cell_type": "code",
      "execution_count": null,
      "metadata": {
        "id": "e5H5-0LICBAA"
      },
      "outputs": [],
      "source": [
        "def get_single_test():\n",
        "    sz = 200\n",
        "    test = np.zeros(shape=(sz, 256, 256, 1))\n",
        "    cnt = 0\n",
        "    for f in sorted(listdir(Config.SINGLE_TEST_PATH)):\n",
        "        if str(join(Config.SINGLE_TEST_PATH, f))[-3:] == \"tif\":\n",
        "            img = Image.open(join(Config.SINGLE_TEST_PATH, f)).resize((256, 256))\n",
        "            img = np.array(img, dtype=np.float32) / 256.0\n",
        "            test[cnt, :, :, 0] = img\n",
        "            cnt = cnt + 1\n",
        "   \n",
        "    return test"
      ]
    },
    {
      "cell_type": "code",
      "execution_count": null,
      "metadata": {
        "id": "agHqm4PqCHrE"
      },
      "outputs": [],
      "source": [
        "import matplotlib.pyplot as plt\n",
        "import numpy\n",
        "import pandas as pd\n",
        "x=0\n",
        "def evaluate():\n",
        "    model = get_model(False)\n",
        "    print(\"got model\")\n",
        "    test = get_single_test()\n",
        "    print(test.shape)\n",
        "    sz = test.shape[0] - 10 + 1\n",
        "    sequences = np.zeros((sz, 10, 256, 256, 1))\n",
        "    # apply the sliding window technique to get the sequences\n",
        "    for i in range(0, sz):\n",
        "        clip = np.zeros((10, 256, 256, 1))\n",
        "        for j in range(0, 10):\n",
        "            clip[j] = test[i + j, :, :, :]\n",
        "        sequences[i] = clip\n",
        "    #x=sequences\n",
        "    \n",
        "\n",
        "    print(\"got data\")\n",
        "    # get the reconstruction cost of all the sequences\n",
        "    reconstructed_sequences = model.predict(sequences,batch_size=4)\n",
        "    sequences_reconstruction_cost = np.array([np.linalg.norm(np.subtract(sequences[i],reconstructed_sequences[i])) for i in range(0,sz)])\n",
        "    sa = (sequences_reconstruction_cost - np.min(sequences_reconstruction_cost)) / np.max(sequences_reconstruction_cost)\n",
        "    sr = 1.0 - sa\n",
        "    \n",
        "\n",
        "    # plot the regularity scores\n",
        "  \n",
        "    plt.plot(sr,color='green')\n",
        "    plt.ylabel('Regularity score Sr(t)')\n",
        "    plt.xlabel('Frame t')\n",
        "    plt.show()\n",
        "    print(sr)\n",
        "    DF = pd.DataFrame(sr)\n",
        "    DF.to_csv(\"data1.csv\")\n",
        "  "
      ]
    },
    {
      "cell_type": "code",
      "source": [
        "evaluate()"
      ],
      "metadata": {
        "colab": {
          "base_uri": "https://localhost:8080/",
          "height": 904
        },
        "id": "1YfoY40uW-Xk",
        "outputId": "21972c50-4526-4fb9-a2e1-b8d18708bfdf"
      },
      "execution_count": null,
      "outputs": [
        {
          "output_type": "stream",
          "name": "stdout",
          "text": [
            "got model\n",
            "(200, 256, 256, 1)\n",
            "got data\n",
            "48/48 [==============================] - 21s 424ms/step\n"
          ]
        },
        {
          "output_type": "display_data",
          "data": {
            "text/plain": [
              "<Figure size 432x288 with 1 Axes>"
            ],
            "image/png": "[encoded data removed]"
          },
          "metadata": {
            "needs_background": "light"
          }
        },
        {
          "output_type": "stream",
          "name": "stdout",
          "text": [
            "[0.83707971 0.8378279  0.83724869 0.83328902 0.83346704 0.83527819\n",
            " 0.83801913 0.83583223 0.83438353 0.83772216 0.84241444 0.84894539\n",
            " 0.85984702 0.86818041 0.87942197 0.89039391 0.90353782 0.91674311\n",
            " 0.92586691 0.93841178 0.94920761 0.95646845 0.96200806 0.96772826\n",
            " 0.97252266 0.97904196 0.98452173 0.9902294  0.99477103 0.9976773\n",
            " 0.99923587 1.         0.99980939 0.99937006 0.99850519 0.99772427\n",
            " 0.99129576 0.97708722 0.95927346 0.94074049 0.92135208 0.90075648\n",
            " 0.87728744 0.85114426 0.82446579 0.79773533 0.77563231 0.75281633\n",
            " 0.73349746 0.70889127 0.68749058 0.67120908 0.64831301 0.63388261\n",
            " 0.61747879 0.60885957 0.60038352 0.59187394 0.58902467 0.58760256\n",
            " 0.59525707 0.59785008 0.6061112  0.61460624 0.61447243 0.6301062\n",
            " 0.64941295 0.65738341 0.66828206 0.68055954 0.68813359 0.70171844\n",
            " 0.70822039 0.71881183 0.73060507 0.73377463 0.74386866 0.752394\n",
            " 0.7600673  0.76963449 0.7750658  0.78842416 0.79704715 0.80242263\n",
            " 0.81124058 0.8154877  0.81959518 0.82609749 0.82991184 0.83321862\n",
            " 0.8352638  0.83478243 0.83452935 0.83507422 0.83899047 0.83981033\n",
            " 0.84109879 0.84404038 0.84669115 0.84961191 0.85103508 0.85384427\n",
            " 0.85786666 0.86271205 0.86233565 0.86268381 0.86460355 0.86509081\n",
            " 0.86361546 0.85959493 0.8561914  0.85384777 0.8538666  0.85426811\n",
            " 0.85483683 0.85200043 0.85074897 0.85262773 0.85498341 0.85242447\n",
            " 0.84929769 0.84889686 0.85065268 0.84808502 0.84361615 0.84352878\n",
            " 0.84449173 0.84219949 0.84138857 0.84190984 0.84412052 0.84442664\n",
            " 0.84694629 0.85195173 0.85348674 0.85797776 0.86486072 0.87163064\n",
            " 0.8756197  0.88124037 0.88914599 0.89979011 0.90957589 0.91369297\n",
            " 0.91967758 0.9271388  0.93207861 0.93450304 0.93402516 0.93535665\n",
            " 0.93852124 0.94226204 0.94607683 0.94789728 0.95089334 0.95422112\n",
            " 0.95946224 0.96220811 0.96317342 0.9636517  0.96547388 0.968918\n",
            " 0.97120832 0.97149677 0.97122672 0.97286573 0.97499927 0.97732944\n",
            " 0.97871784 0.97889981 0.97988493 0.9809546  0.98052383 0.98221272\n",
            " 0.98424361 0.98566409 0.98786222 0.98957352 0.99307431 0.99591076\n",
            " 0.99502484 0.99389849 0.99279619 0.99264008 0.99281862 0.99366889\n",
            " 0.99537724 0.99554712 0.9959333  0.99743925 0.99798751]\n"
          ]
        }
      ]
    },
    {
      "cell_type": "code",
      "source": [
        "import sklearn\n",
        "from sklearn.metrics import roc_curve\n",
        "from sklearn.metrics import  auc\n",
        "import matplotlib.pyplot as plt\n",
        "import numpy as np\n",
        "fpr = np.array([0.05, 0.052346, 0.053567, 0.057,0.0981433,0.516,0.833,0.9653])\n",
        "tpr = np.array([0.89142,0.9054,0.9598,0.963,0.97711,0.99335,0.9956,0.9974])\n",
        "plt.plot(fpr, tpr)\n",
        "plt.show()\n",
        "print (\"AUC:\",  100*sklearn.metrics.auc(fpr, tpr))"
      ],
      "metadata": {
        "colab": {
          "base_uri": "https://localhost:8080/",
          "height": 282
        },
        "id": "D6zQsRmPtUfL",
        "outputId": "6cbd5b33-894f-4cc5-b8c7-3bafca5cbc78"
      },
      "execution_count": null,
      "outputs": [
        {
          "output_type": "display_data",
          "data": {
            "text/plain": [
              "<Figure size 432x288 with 1 Axes>"
            ],
            "image/png": "[encoded data removed]"
          },
          "metadata": {
            "needs_background": "light"
          }
        },
        {
          "output_type": "stream",
          "name": "stdout",
          "text": [
            "AUC: 90.52286060825001\n"
          ]
        }
      ]
    },
    {
      "cell_type": "code",
      "source": [
        "import sklearn\n",
        "from sklearn.metrics import roc_curve\n",
        "from sklearn.metrics import  auc\n",
        "import matplotlib.pyplot as plt\n",
        "import numpy as np\n",
        "fpr = np.array([0.18,0.31,0.49,0.57,0.8])\n",
        "tpr = np.array([0.69,1,1,1,1])\n",
        "plt.plot(x=fpr, tpr)\n",
        "plt.show()\n",
        "print (\"AUC:\",  100*sklearn.metrics.auc(fpr, tpr))"
      ],
      "metadata": {
        "colab": {
          "base_uri": "https://localhost:8080/",
          "height": 131
        },
        "id": "ykEMaEARzKMk",
        "outputId": "c4fc0d3a-4f4c-4523-ee15-dae2d418168e"
      },
      "execution_count": null,
      "outputs": [
        {
          "output_type": "error",
          "ename": "SyntaxError",
          "evalue": "ignored",
          "traceback": [
            "\u001b[0;36m  File \u001b[0;32m\"<ipython-input-1-4e277648843b>\"\u001b[0;36m, line \u001b[0;32m8\u001b[0m\n\u001b[0;31m    plt.plot(x=fpr, tpr)\u001b[0m\n\u001b[0m                    ^\u001b[0m\n\u001b[0;31mSyntaxError\u001b[0m\u001b[0;31m:\u001b[0m positional argument follows keyword argument\n"
          ]
        }
      ]
    }
  ],
  "metadata": {
    "colab": {
      "provenance": []
    },
    "kernelspec": {
      "display_name": "Python 3",
      "name": "python3"
    },
    "language_info": {
      "name": "python"
    },
    "gpuClass": "standard"
  },
  "nbformat": 4,
  "nbformat_minor": 0
}